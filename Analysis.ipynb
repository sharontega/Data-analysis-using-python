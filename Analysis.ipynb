{
 "cells": [
  {
   "cell_type": "code",
   "execution_count": 1,
   "id": "52d9d2e5",
   "metadata": {},
   "outputs": [],
   "source": [
    "import pandas as pd\n",
    "import numpy as py\n",
    "import seaborn as sns\n",
    "import matplotlib.pyplot as plt"
   ]
  },
  {
   "cell_type": "code",
   "execution_count": 2,
   "id": "e65706f0",
   "metadata": {},
   "outputs": [
    {
     "data": {
      "text/html": [
       "<div>\n",
       "<style scoped>\n",
       "    .dataframe tbody tr th:only-of-type {\n",
       "        vertical-align: middle;\n",
       "    }\n",
       "\n",
       "    .dataframe tbody tr th {\n",
       "        vertical-align: top;\n",
       "    }\n",
       "\n",
       "    .dataframe thead th {\n",
       "        text-align: right;\n",
       "    }\n",
       "</style>\n",
       "<table border=\"1\" class=\"dataframe\">\n",
       "  <thead>\n",
       "    <tr style=\"text-align: right;\">\n",
       "      <th></th>\n",
       "      <th>#</th>\n",
       "      <th>Country,Other</th>\n",
       "      <th>TotalCases</th>\n",
       "      <th>NewCases</th>\n",
       "      <th>TotalDeaths</th>\n",
       "      <th>NewDeaths</th>\n",
       "      <th>TotalRecovered</th>\n",
       "      <th>NewRecovered</th>\n",
       "      <th>ActiveCases</th>\n",
       "      <th>Serious,Critical</th>\n",
       "      <th>...</th>\n",
       "      <th>TotalTests</th>\n",
       "      <th>Tests/\\n1M pop\\n</th>\n",
       "      <th>Population</th>\n",
       "      <th>Continent</th>\n",
       "      <th>1 Caseevery X ppl</th>\n",
       "      <th>1 Deathevery X ppl</th>\n",
       "      <th>1 Testevery X ppl</th>\n",
       "      <th>New Cases/1M pop</th>\n",
       "      <th>New Deaths/1M pop</th>\n",
       "      <th>Active Cases/1M pop</th>\n",
       "    </tr>\n",
       "  </thead>\n",
       "  <tbody>\n",
       "    <tr>\n",
       "      <th>0</th>\n",
       "      <td>NaN</td>\n",
       "      <td>\\nNorth America\\n</td>\n",
       "      <td>114,689,887</td>\n",
       "      <td>+1,019</td>\n",
       "      <td>1,526,246</td>\n",
       "      <td>5.0</td>\n",
       "      <td>108,543,269</td>\n",
       "      <td>+7,180</td>\n",
       "      <td>4,620,372</td>\n",
       "      <td>9,090</td>\n",
       "      <td>...</td>\n",
       "      <td>NaN</td>\n",
       "      <td>NaN</td>\n",
       "      <td>NaN</td>\n",
       "      <td>North America</td>\n",
       "      <td>\\n</td>\n",
       "      <td>NaN</td>\n",
       "      <td>NaN</td>\n",
       "      <td>NaN</td>\n",
       "      <td>NaN</td>\n",
       "      <td>NaN</td>\n",
       "    </tr>\n",
       "    <tr>\n",
       "      <th>1</th>\n",
       "      <td>NaN</td>\n",
       "      <td>\\nAsia\\n</td>\n",
       "      <td>184,944,461</td>\n",
       "      <td>+192,551</td>\n",
       "      <td>1,469,946</td>\n",
       "      <td>456.0</td>\n",
       "      <td>176,895,095</td>\n",
       "      <td>+406,532</td>\n",
       "      <td>6,579,420</td>\n",
       "      <td>12,447</td>\n",
       "      <td>...</td>\n",
       "      <td>NaN</td>\n",
       "      <td>NaN</td>\n",
       "      <td>NaN</td>\n",
       "      <td>Asia</td>\n",
       "      <td>\\n</td>\n",
       "      <td>NaN</td>\n",
       "      <td>NaN</td>\n",
       "      <td>NaN</td>\n",
       "      <td>NaN</td>\n",
       "      <td>NaN</td>\n",
       "    </tr>\n",
       "    <tr>\n",
       "      <th>2</th>\n",
       "      <td>NaN</td>\n",
       "      <td>\\nEurope\\n</td>\n",
       "      <td>222,320,948</td>\n",
       "      <td>+64,173</td>\n",
       "      <td>1,905,046</td>\n",
       "      <td>252.0</td>\n",
       "      <td>216,319,185</td>\n",
       "      <td>+163,962</td>\n",
       "      <td>4,096,717</td>\n",
       "      <td>9,098</td>\n",
       "      <td>...</td>\n",
       "      <td>NaN</td>\n",
       "      <td>NaN</td>\n",
       "      <td>NaN</td>\n",
       "      <td>Europe</td>\n",
       "      <td>\\n</td>\n",
       "      <td>NaN</td>\n",
       "      <td>NaN</td>\n",
       "      <td>NaN</td>\n",
       "      <td>NaN</td>\n",
       "      <td>NaN</td>\n",
       "    </tr>\n",
       "    <tr>\n",
       "      <th>3</th>\n",
       "      <td>NaN</td>\n",
       "      <td>\\nSouth America\\n</td>\n",
       "      <td>63,737,068</td>\n",
       "      <td>+4,031</td>\n",
       "      <td>1,326,180</td>\n",
       "      <td>30.0</td>\n",
       "      <td>61,760,719</td>\n",
       "      <td>+11,246</td>\n",
       "      <td>650,169</td>\n",
       "      <td>10,505</td>\n",
       "      <td>...</td>\n",
       "      <td>NaN</td>\n",
       "      <td>NaN</td>\n",
       "      <td>NaN</td>\n",
       "      <td>South America</td>\n",
       "      <td>\\n</td>\n",
       "      <td>NaN</td>\n",
       "      <td>NaN</td>\n",
       "      <td>NaN</td>\n",
       "      <td>NaN</td>\n",
       "      <td>NaN</td>\n",
       "    </tr>\n",
       "    <tr>\n",
       "      <th>4</th>\n",
       "      <td>NaN</td>\n",
       "      <td>\\nOceania\\n</td>\n",
       "      <td>12,196,867</td>\n",
       "      <td>+10,421</td>\n",
       "      <td>19,642</td>\n",
       "      <td>15.0</td>\n",
       "      <td>11,982,469</td>\n",
       "      <td>+1,697</td>\n",
       "      <td>194,756</td>\n",
       "      <td>144</td>\n",
       "      <td>...</td>\n",
       "      <td>NaN</td>\n",
       "      <td>NaN</td>\n",
       "      <td>NaN</td>\n",
       "      <td>Australia/Oceania</td>\n",
       "      <td>\\n</td>\n",
       "      <td>NaN</td>\n",
       "      <td>NaN</td>\n",
       "      <td>NaN</td>\n",
       "      <td>NaN</td>\n",
       "      <td>NaN</td>\n",
       "    </tr>\n",
       "  </tbody>\n",
       "</table>\n",
       "<p>5 rows × 22 columns</p>\n",
       "</div>"
      ],
      "text/plain": [
       "    #      Country,Other   TotalCases  NewCases TotalDeaths  NewDeaths  \\\n",
       "0 NaN  \\nNorth America\\n  114,689,887    +1,019   1,526,246        5.0   \n",
       "1 NaN           \\nAsia\\n  184,944,461  +192,551   1,469,946      456.0   \n",
       "2 NaN         \\nEurope\\n  222,320,948   +64,173   1,905,046      252.0   \n",
       "3 NaN  \\nSouth America\\n   63,737,068    +4,031   1,326,180       30.0   \n",
       "4 NaN        \\nOceania\\n   12,196,867   +10,421      19,642       15.0   \n",
       "\n",
       "  TotalRecovered NewRecovered ActiveCases Serious,Critical  ... TotalTests  \\\n",
       "0    108,543,269       +7,180   4,620,372            9,090  ...        NaN   \n",
       "1    176,895,095     +406,532   6,579,420           12,447  ...        NaN   \n",
       "2    216,319,185     +163,962   4,096,717            9,098  ...        NaN   \n",
       "3     61,760,719      +11,246     650,169           10,505  ...        NaN   \n",
       "4     11,982,469       +1,697     194,756              144  ...        NaN   \n",
       "\n",
       "  Tests/\\n1M pop\\n Population          Continent 1 Caseevery X ppl  \\\n",
       "0              NaN        NaN      North America                \\n   \n",
       "1              NaN        NaN               Asia                \\n   \n",
       "2              NaN        NaN             Europe                \\n   \n",
       "3              NaN        NaN      South America                \\n   \n",
       "4              NaN        NaN  Australia/Oceania                \\n   \n",
       "\n",
       "  1 Deathevery X ppl 1 Testevery X ppl New Cases/1M pop  New Deaths/1M pop  \\\n",
       "0                NaN               NaN              NaN                NaN   \n",
       "1                NaN               NaN              NaN                NaN   \n",
       "2                NaN               NaN              NaN                NaN   \n",
       "3                NaN               NaN              NaN                NaN   \n",
       "4                NaN               NaN              NaN                NaN   \n",
       "\n",
       "  Active Cases/1M pop  \n",
       "0                 NaN  \n",
       "1                 NaN  \n",
       "2                 NaN  \n",
       "3                 NaN  \n",
       "4                 NaN  \n",
       "\n",
       "[5 rows x 22 columns]"
      ]
     },
     "execution_count": 2,
     "metadata": {},
     "output_type": "execute_result"
    }
   ],
   "source": [
    "df=pd.read_csv('prducts.csv', index_col=0)\n",
    "\n",
    "df.head()"
   ]
  },
  {
   "cell_type": "code",
   "execution_count": 3,
   "id": "62139ae3",
   "metadata": {
    "scrolled": true
   },
   "outputs": [
    {
     "data": {
      "text/html": [
       "<div>\n",
       "<style scoped>\n",
       "    .dataframe tbody tr th:only-of-type {\n",
       "        vertical-align: middle;\n",
       "    }\n",
       "\n",
       "    .dataframe tbody tr th {\n",
       "        vertical-align: top;\n",
       "    }\n",
       "\n",
       "    .dataframe thead th {\n",
       "        text-align: right;\n",
       "    }\n",
       "</style>\n",
       "<table border=\"1\" class=\"dataframe\">\n",
       "  <thead>\n",
       "    <tr style=\"text-align: right;\">\n",
       "      <th></th>\n",
       "      <th>Country,Other</th>\n",
       "      <th>TotalCases</th>\n",
       "      <th>NewCases</th>\n",
       "      <th>TotalDeaths</th>\n",
       "      <th>NewDeaths</th>\n",
       "      <th>TotalRecovered</th>\n",
       "      <th>NewRecovered</th>\n",
       "      <th>ActiveCases</th>\n",
       "      <th>Serious,Critical</th>\n",
       "      <th>Tot Cases/1M pop</th>\n",
       "      <th>Deaths/1M pop</th>\n",
       "      <th>TotalTests</th>\n",
       "      <th>Tests/\\n1M pop\\n</th>\n",
       "      <th>Population</th>\n",
       "    </tr>\n",
       "  </thead>\n",
       "  <tbody>\n",
       "    <tr>\n",
       "      <th>0</th>\n",
       "      <td>World</td>\n",
       "      <td>610,506,373</td>\n",
       "      <td>+272,448</td>\n",
       "      <td>6,504,493</td>\n",
       "      <td>758.0</td>\n",
       "      <td>587,445,506</td>\n",
       "      <td>+590,791</td>\n",
       "      <td>16,556,374</td>\n",
       "      <td>42,311</td>\n",
       "      <td>78,322</td>\n",
       "      <td>834.5</td>\n",
       "      <td>NaN</td>\n",
       "      <td>NaN</td>\n",
       "      <td>NaN</td>\n",
       "    </tr>\n",
       "    <tr>\n",
       "      <th>1</th>\n",
       "      <td>USA</td>\n",
       "      <td>96,626,337</td>\n",
       "      <td>NaN</td>\n",
       "      <td>1,072,946</td>\n",
       "      <td>NaN</td>\n",
       "      <td>92,494,183</td>\n",
       "      <td>NaN</td>\n",
       "      <td>3,059,208</td>\n",
       "      <td>3,713</td>\n",
       "      <td>NaN</td>\n",
       "      <td>NaN</td>\n",
       "      <td>1,102,830,809</td>\n",
       "      <td>NaN</td>\n",
       "      <td></td>\n",
       "    </tr>\n",
       "    <tr>\n",
       "      <th>2</th>\n",
       "      <td>India</td>\n",
       "      <td>44,462,445</td>\n",
       "      <td>NaN</td>\n",
       "      <td>528,007</td>\n",
       "      <td>NaN</td>\n",
       "      <td>43,880,464</td>\n",
       "      <td>NaN</td>\n",
       "      <td>53,974</td>\n",
       "      <td>698</td>\n",
       "      <td>31,546</td>\n",
       "      <td>375</td>\n",
       "      <td>887,379,274</td>\n",
       "      <td>629,589</td>\n",
       "      <td>1,409,458,588</td>\n",
       "    </tr>\n",
       "    <tr>\n",
       "      <th>3</th>\n",
       "      <td>France</td>\n",
       "      <td>34,596,180</td>\n",
       "      <td>+3,443</td>\n",
       "      <td>154,273</td>\n",
       "      <td>67.0</td>\n",
       "      <td>34,086,130</td>\n",
       "      <td>+6,314</td>\n",
       "      <td>355,777</td>\n",
       "      <td>869</td>\n",
       "      <td>527,486</td>\n",
       "      <td>2,352</td>\n",
       "      <td>271,490,188</td>\n",
       "      <td>4,139,392</td>\n",
       "      <td>65,586,967</td>\n",
       "    </tr>\n",
       "    <tr>\n",
       "      <th>4</th>\n",
       "      <td>Brazil</td>\n",
       "      <td>34,517,770</td>\n",
       "      <td>NaN</td>\n",
       "      <td>684,427</td>\n",
       "      <td>NaN</td>\n",
       "      <td>33,502,447</td>\n",
       "      <td>NaN</td>\n",
       "      <td>330,896</td>\n",
       "      <td>8,318</td>\n",
       "      <td>159,923</td>\n",
       "      <td>3,171</td>\n",
       "      <td>63,776,166</td>\n",
       "      <td>295,480</td>\n",
       "      <td>215,839,289</td>\n",
       "    </tr>\n",
       "  </tbody>\n",
       "</table>\n",
       "</div>"
      ],
      "text/plain": [
       "  Country,Other   TotalCases  NewCases TotalDeaths  NewDeaths TotalRecovered  \\\n",
       "0         World  610,506,373  +272,448   6,504,493      758.0    587,445,506   \n",
       "1           USA   96,626,337       NaN  1,072,946         NaN     92,494,183   \n",
       "2         India   44,462,445       NaN    528,007         NaN     43,880,464   \n",
       "3        France   34,596,180    +3,443    154,273        67.0     34,086,130   \n",
       "4        Brazil   34,517,770       NaN    684,427         NaN     33,502,447   \n",
       "\n",
       "  NewRecovered ActiveCases Serious,Critical Tot Cases/1M pop Deaths/1M pop  \\\n",
       "0     +590,791  16,556,374           42,311           78,322         834.5   \n",
       "1          NaN   3,059,208            3,713              NaN           NaN   \n",
       "2          NaN      53,974              698           31,546           375   \n",
       "3       +6,314     355,777              869          527,486         2,352   \n",
       "4          NaN     330,896            8,318          159,923         3,171   \n",
       "\n",
       "      TotalTests Tests/\\n1M pop\\n      Population  \n",
       "0            NaN              NaN             NaN  \n",
       "1  1,102,830,809              NaN                  \n",
       "2    887,379,274          629,589  1,409,458,588   \n",
       "3    271,490,188        4,139,392     65,586,967   \n",
       "4     63,776,166          295,480    215,839,289   "
      ]
     },
     "execution_count": 3,
     "metadata": {},
     "output_type": "execute_result"
    }
   ],
   "source": [
    "df=df.drop(df.index[0:7])\n",
    "df=df.drop(df.index[238:245])\n",
    "df=df.drop(['#'],axis='columns')\n",
    "df=df.drop(['Continent','1 Caseevery X ppl','1 Deathevery X ppl','1 Testevery X ppl', 'New Cases/1M pop', 'New Deaths/1M pop',\n",
    "       'Active Cases/1M pop'], axis='columns')\n",
    "df.reset_index(inplace=True, drop=True)\n",
    "df.head()"
   ]
  },
  {
   "cell_type": "code",
   "execution_count": 4,
   "id": "defd78eb",
   "metadata": {},
   "outputs": [
    {
     "data": {
      "text/plain": [
       "Index(['Country,Other', 'TotalCases', 'NewCases', 'TotalDeaths', 'NewDeaths',\n",
       "       'TotalRecovered', 'NewRecovered', 'ActiveCases', 'Serious,Critical',\n",
       "       'Tot Cases/1M pop', 'Deaths/1M pop', 'TotalTests', 'Tests/\\n1M pop\\n',\n",
       "       'Population'],\n",
       "      dtype='object')"
      ]
     },
     "execution_count": 4,
     "metadata": {},
     "output_type": "execute_result"
    }
   ],
   "source": [
    "df.columns"
   ]
  },
  {
   "cell_type": "code",
   "execution_count": 5,
   "id": "f645374e",
   "metadata": {
    "scrolled": true
   },
   "outputs": [
    {
     "data": {
      "text/html": [
       "<div>\n",
       "<style scoped>\n",
       "    .dataframe tbody tr th:only-of-type {\n",
       "        vertical-align: middle;\n",
       "    }\n",
       "\n",
       "    .dataframe tbody tr th {\n",
       "        vertical-align: top;\n",
       "    }\n",
       "\n",
       "    .dataframe thead th {\n",
       "        text-align: right;\n",
       "    }\n",
       "</style>\n",
       "<table border=\"1\" class=\"dataframe\">\n",
       "  <thead>\n",
       "    <tr style=\"text-align: right;\">\n",
       "      <th></th>\n",
       "      <th>Country</th>\n",
       "      <th>TotalCases</th>\n",
       "      <th>NewCases</th>\n",
       "      <th>TotalDeaths</th>\n",
       "      <th>NewDeaths</th>\n",
       "      <th>TotalRecovered</th>\n",
       "      <th>NewRecovered</th>\n",
       "      <th>ActiveCases</th>\n",
       "      <th>Serious</th>\n",
       "      <th>Tot Cases/1M pop</th>\n",
       "      <th>Deaths/1M pop</th>\n",
       "      <th>TotalTests</th>\n",
       "      <th>Tests/\\n1M pop\\n</th>\n",
       "      <th>Population</th>\n",
       "    </tr>\n",
       "  </thead>\n",
       "  <tbody>\n",
       "    <tr>\n",
       "      <th>0</th>\n",
       "      <td>World</td>\n",
       "      <td>610,506,373</td>\n",
       "      <td>+272,448</td>\n",
       "      <td>6,504,493</td>\n",
       "      <td>758.0</td>\n",
       "      <td>587,445,506</td>\n",
       "      <td>+590,791</td>\n",
       "      <td>16,556,374</td>\n",
       "      <td>42,311</td>\n",
       "      <td>78,322</td>\n",
       "      <td>834.5</td>\n",
       "      <td>NaN</td>\n",
       "      <td>NaN</td>\n",
       "      <td>NaN</td>\n",
       "    </tr>\n",
       "    <tr>\n",
       "      <th>1</th>\n",
       "      <td>USA</td>\n",
       "      <td>96,626,337</td>\n",
       "      <td>NaN</td>\n",
       "      <td>1,072,946</td>\n",
       "      <td>NaN</td>\n",
       "      <td>92,494,183</td>\n",
       "      <td>NaN</td>\n",
       "      <td>3,059,208</td>\n",
       "      <td>3,713</td>\n",
       "      <td>NaN</td>\n",
       "      <td>NaN</td>\n",
       "      <td>1,102,830,809</td>\n",
       "      <td>NaN</td>\n",
       "      <td></td>\n",
       "    </tr>\n",
       "    <tr>\n",
       "      <th>2</th>\n",
       "      <td>India</td>\n",
       "      <td>44,462,445</td>\n",
       "      <td>NaN</td>\n",
       "      <td>528,007</td>\n",
       "      <td>NaN</td>\n",
       "      <td>43,880,464</td>\n",
       "      <td>NaN</td>\n",
       "      <td>53,974</td>\n",
       "      <td>698</td>\n",
       "      <td>31,546</td>\n",
       "      <td>375</td>\n",
       "      <td>887,379,274</td>\n",
       "      <td>629,589</td>\n",
       "      <td>1,409,458,588</td>\n",
       "    </tr>\n",
       "    <tr>\n",
       "      <th>3</th>\n",
       "      <td>France</td>\n",
       "      <td>34,596,180</td>\n",
       "      <td>+3,443</td>\n",
       "      <td>154,273</td>\n",
       "      <td>67.0</td>\n",
       "      <td>34,086,130</td>\n",
       "      <td>+6,314</td>\n",
       "      <td>355,777</td>\n",
       "      <td>869</td>\n",
       "      <td>527,486</td>\n",
       "      <td>2,352</td>\n",
       "      <td>271,490,188</td>\n",
       "      <td>4,139,392</td>\n",
       "      <td>65,586,967</td>\n",
       "    </tr>\n",
       "    <tr>\n",
       "      <th>4</th>\n",
       "      <td>Brazil</td>\n",
       "      <td>34,517,770</td>\n",
       "      <td>NaN</td>\n",
       "      <td>684,427</td>\n",
       "      <td>NaN</td>\n",
       "      <td>33,502,447</td>\n",
       "      <td>NaN</td>\n",
       "      <td>330,896</td>\n",
       "      <td>8,318</td>\n",
       "      <td>159,923</td>\n",
       "      <td>3,171</td>\n",
       "      <td>63,776,166</td>\n",
       "      <td>295,480</td>\n",
       "      <td>215,839,289</td>\n",
       "    </tr>\n",
       "  </tbody>\n",
       "</table>\n",
       "</div>"
      ],
      "text/plain": [
       "  Country   TotalCases  NewCases TotalDeaths  NewDeaths TotalRecovered  \\\n",
       "0   World  610,506,373  +272,448   6,504,493      758.0    587,445,506   \n",
       "1     USA   96,626,337       NaN  1,072,946         NaN     92,494,183   \n",
       "2   India   44,462,445       NaN    528,007         NaN     43,880,464   \n",
       "3  France   34,596,180    +3,443    154,273        67.0     34,086,130   \n",
       "4  Brazil   34,517,770       NaN    684,427         NaN     33,502,447   \n",
       "\n",
       "  NewRecovered ActiveCases Serious Tot Cases/1M pop Deaths/1M pop  \\\n",
       "0     +590,791  16,556,374  42,311           78,322         834.5   \n",
       "1          NaN   3,059,208   3,713              NaN           NaN   \n",
       "2          NaN      53,974     698           31,546           375   \n",
       "3       +6,314     355,777     869          527,486         2,352   \n",
       "4          NaN     330,896   8,318          159,923         3,171   \n",
       "\n",
       "      TotalTests Tests/\\n1M pop\\n      Population  \n",
       "0            NaN              NaN             NaN  \n",
       "1  1,102,830,809              NaN                  \n",
       "2    887,379,274          629,589  1,409,458,588   \n",
       "3    271,490,188        4,139,392     65,586,967   \n",
       "4     63,776,166          295,480    215,839,289   "
      ]
     },
     "execution_count": 5,
     "metadata": {},
     "output_type": "execute_result"
    }
   ],
   "source": [
    "df.rename(columns={'Serious,Critical':'Serious','Country,Other':'Country'}, inplace=True)\n",
    "df.head()"
   ]
  },
  {
   "cell_type": "code",
   "execution_count": 6,
   "id": "3f1b96c7",
   "metadata": {},
   "outputs": [
    {
     "data": {
      "text/plain": [
       "(238, 14)"
      ]
     },
     "execution_count": 6,
     "metadata": {},
     "output_type": "execute_result"
    }
   ],
   "source": [
    "df.shape"
   ]
  },
  {
   "cell_type": "code",
   "execution_count": 7,
   "id": "3d698f80",
   "metadata": {
    "scrolled": true
   },
   "outputs": [
    {
     "data": {
      "text/html": [
       "<div>\n",
       "<style scoped>\n",
       "    .dataframe tbody tr th:only-of-type {\n",
       "        vertical-align: middle;\n",
       "    }\n",
       "\n",
       "    .dataframe tbody tr th {\n",
       "        vertical-align: top;\n",
       "    }\n",
       "\n",
       "    .dataframe thead th {\n",
       "        text-align: right;\n",
       "    }\n",
       "</style>\n",
       "<table border=\"1\" class=\"dataframe\">\n",
       "  <thead>\n",
       "    <tr style=\"text-align: right;\">\n",
       "      <th></th>\n",
       "      <th>NewDeaths</th>\n",
       "    </tr>\n",
       "  </thead>\n",
       "  <tbody>\n",
       "    <tr>\n",
       "      <th>count</th>\n",
       "      <td>43.000000</td>\n",
       "    </tr>\n",
       "    <tr>\n",
       "      <th>mean</th>\n",
       "      <td>52.883721</td>\n",
       "    </tr>\n",
       "    <tr>\n",
       "      <th>std</th>\n",
       "      <td>137.963627</td>\n",
       "    </tr>\n",
       "    <tr>\n",
       "      <th>min</th>\n",
       "      <td>1.000000</td>\n",
       "    </tr>\n",
       "    <tr>\n",
       "      <th>25%</th>\n",
       "      <td>2.000000</td>\n",
       "    </tr>\n",
       "    <tr>\n",
       "      <th>50%</th>\n",
       "      <td>7.000000</td>\n",
       "    </tr>\n",
       "    <tr>\n",
       "      <th>75%</th>\n",
       "      <td>29.500000</td>\n",
       "    </tr>\n",
       "    <tr>\n",
       "      <th>max</th>\n",
       "      <td>758.000000</td>\n",
       "    </tr>\n",
       "  </tbody>\n",
       "</table>\n",
       "</div>"
      ],
      "text/plain": [
       "        NewDeaths\n",
       "count   43.000000\n",
       "mean    52.883721\n",
       "std    137.963627\n",
       "min      1.000000\n",
       "25%      2.000000\n",
       "50%      7.000000\n",
       "75%     29.500000\n",
       "max    758.000000"
      ]
     },
     "execution_count": 7,
     "metadata": {},
     "output_type": "execute_result"
    }
   ],
   "source": [
    "df.describe()"
   ]
  },
  {
   "cell_type": "code",
   "execution_count": 8,
   "id": "a3045deb",
   "metadata": {
    "scrolled": true
   },
   "outputs": [
    {
     "name": "stdout",
     "output_type": "stream",
     "text": [
      "<class 'pandas.core.frame.DataFrame'>\n",
      "RangeIndex: 238 entries, 0 to 237\n",
      "Data columns (total 14 columns):\n",
      " #   Column            Non-Null Count  Dtype  \n",
      "---  ------            --------------  -----  \n",
      " 0   Country           238 non-null    object \n",
      " 1   TotalCases        238 non-null    object \n",
      " 2   NewCases          72 non-null     object \n",
      " 3   TotalDeaths       238 non-null    object \n",
      " 4   NewDeaths         43 non-null     float64\n",
      " 5   TotalRecovered    220 non-null    object \n",
      " 6   NewRecovered      79 non-null     object \n",
      " 7   ActiveCases       221 non-null    object \n",
      " 8   Serious           158 non-null    object \n",
      " 9   Tot Cases/1M pop  228 non-null    object \n",
      " 10  Deaths/1M pop     223 non-null    object \n",
      " 11  TotalTests        214 non-null    object \n",
      " 12  Tests/\n",
      "1M pop\n",
      "    213 non-null    object \n",
      " 13  Population        230 non-null    object \n",
      "dtypes: float64(1), object(13)\n",
      "memory usage: 26.2+ KB\n"
     ]
    }
   ],
   "source": [
    "df.info()"
   ]
  },
  {
   "cell_type": "code",
   "execution_count": 9,
   "id": "1e6508c0",
   "metadata": {
    "scrolled": false
   },
   "outputs": [
    {
     "name": "stderr",
     "output_type": "stream",
     "text": [
      "<ipython-input-9-a312cfc43960>:1: FutureWarning: The default value of regex will change from True to False in a future version. In addition, single character regular expressions will*not* be treated as literal strings when regex=True.\n",
      "  df['NewCases']=df['NewCases'].str.replace('+','')\n",
      "<ipython-input-9-a312cfc43960>:3: FutureWarning: The default value of regex will change from True to False in a future version. In addition, single character regular expressions will*not* be treated as literal strings when regex=True.\n",
      "  df['NewRecovered']=df['NewRecovered'].str.replace('+','')\n"
     ]
    }
   ],
   "source": [
    "df['NewCases']=df['NewCases'].str.replace('+','')\n",
    "df['NewDeaths']=df['NewDeaths'].replace('+','')\n",
    "df['NewRecovered']=df['NewRecovered'].str.replace('+','')\n"
   ]
  },
  {
   "cell_type": "code",
   "execution_count": 10,
   "id": "15451c86",
   "metadata": {},
   "outputs": [
    {
     "data": {
      "text/html": [
       "<div>\n",
       "<style scoped>\n",
       "    .dataframe tbody tr th:only-of-type {\n",
       "        vertical-align: middle;\n",
       "    }\n",
       "\n",
       "    .dataframe tbody tr th {\n",
       "        vertical-align: top;\n",
       "    }\n",
       "\n",
       "    .dataframe thead th {\n",
       "        text-align: right;\n",
       "    }\n",
       "</style>\n",
       "<table border=\"1\" class=\"dataframe\">\n",
       "  <thead>\n",
       "    <tr style=\"text-align: right;\">\n",
       "      <th></th>\n",
       "      <th>Country</th>\n",
       "      <th>TotalCases</th>\n",
       "      <th>NewCases</th>\n",
       "      <th>TotalDeaths</th>\n",
       "      <th>NewDeaths</th>\n",
       "      <th>TotalRecovered</th>\n",
       "      <th>NewRecovered</th>\n",
       "      <th>ActiveCases</th>\n",
       "      <th>Serious</th>\n",
       "      <th>Tot Cases/1M pop</th>\n",
       "      <th>Deaths/1M pop</th>\n",
       "      <th>TotalTests</th>\n",
       "      <th>Tests/\\n1M pop\\n</th>\n",
       "      <th>Population</th>\n",
       "    </tr>\n",
       "  </thead>\n",
       "  <tbody>\n",
       "    <tr>\n",
       "      <th>0</th>\n",
       "      <td>World</td>\n",
       "      <td>610,506,373</td>\n",
       "      <td>272,448</td>\n",
       "      <td>6,504,493</td>\n",
       "      <td>758.0</td>\n",
       "      <td>587,445,506</td>\n",
       "      <td>590,791</td>\n",
       "      <td>16,556,374</td>\n",
       "      <td>42,311</td>\n",
       "      <td>78,322</td>\n",
       "      <td>834.5</td>\n",
       "      <td>NaN</td>\n",
       "      <td>NaN</td>\n",
       "      <td>NaN</td>\n",
       "    </tr>\n",
       "    <tr>\n",
       "      <th>1</th>\n",
       "      <td>USA</td>\n",
       "      <td>96,626,337</td>\n",
       "      <td>NaN</td>\n",
       "      <td>1,072,946</td>\n",
       "      <td>NaN</td>\n",
       "      <td>92,494,183</td>\n",
       "      <td>NaN</td>\n",
       "      <td>3,059,208</td>\n",
       "      <td>3,713</td>\n",
       "      <td>NaN</td>\n",
       "      <td>NaN</td>\n",
       "      <td>1,102,830,809</td>\n",
       "      <td>NaN</td>\n",
       "      <td></td>\n",
       "    </tr>\n",
       "    <tr>\n",
       "      <th>2</th>\n",
       "      <td>India</td>\n",
       "      <td>44,462,445</td>\n",
       "      <td>NaN</td>\n",
       "      <td>528,007</td>\n",
       "      <td>NaN</td>\n",
       "      <td>43,880,464</td>\n",
       "      <td>NaN</td>\n",
       "      <td>53,974</td>\n",
       "      <td>698</td>\n",
       "      <td>31,546</td>\n",
       "      <td>375</td>\n",
       "      <td>887,379,274</td>\n",
       "      <td>629,589</td>\n",
       "      <td>1,409,458,588</td>\n",
       "    </tr>\n",
       "    <tr>\n",
       "      <th>3</th>\n",
       "      <td>France</td>\n",
       "      <td>34,596,180</td>\n",
       "      <td>3,443</td>\n",
       "      <td>154,273</td>\n",
       "      <td>67.0</td>\n",
       "      <td>34,086,130</td>\n",
       "      <td>6,314</td>\n",
       "      <td>355,777</td>\n",
       "      <td>869</td>\n",
       "      <td>527,486</td>\n",
       "      <td>2,352</td>\n",
       "      <td>271,490,188</td>\n",
       "      <td>4,139,392</td>\n",
       "      <td>65,586,967</td>\n",
       "    </tr>\n",
       "    <tr>\n",
       "      <th>4</th>\n",
       "      <td>Brazil</td>\n",
       "      <td>34,517,770</td>\n",
       "      <td>NaN</td>\n",
       "      <td>684,427</td>\n",
       "      <td>NaN</td>\n",
       "      <td>33,502,447</td>\n",
       "      <td>NaN</td>\n",
       "      <td>330,896</td>\n",
       "      <td>8,318</td>\n",
       "      <td>159,923</td>\n",
       "      <td>3,171</td>\n",
       "      <td>63,776,166</td>\n",
       "      <td>295,480</td>\n",
       "      <td>215,839,289</td>\n",
       "    </tr>\n",
       "  </tbody>\n",
       "</table>\n",
       "</div>"
      ],
      "text/plain": [
       "  Country   TotalCases NewCases TotalDeaths  NewDeaths TotalRecovered  \\\n",
       "0   World  610,506,373  272,448   6,504,493      758.0    587,445,506   \n",
       "1     USA   96,626,337      NaN  1,072,946         NaN     92,494,183   \n",
       "2   India   44,462,445      NaN    528,007         NaN     43,880,464   \n",
       "3  France   34,596,180    3,443    154,273        67.0     34,086,130   \n",
       "4  Brazil   34,517,770      NaN    684,427         NaN     33,502,447   \n",
       "\n",
       "  NewRecovered ActiveCases Serious Tot Cases/1M pop Deaths/1M pop  \\\n",
       "0      590,791  16,556,374  42,311           78,322         834.5   \n",
       "1          NaN   3,059,208   3,713              NaN           NaN   \n",
       "2          NaN      53,974     698           31,546           375   \n",
       "3        6,314     355,777     869          527,486         2,352   \n",
       "4          NaN     330,896   8,318          159,923         3,171   \n",
       "\n",
       "      TotalTests Tests/\\n1M pop\\n      Population  \n",
       "0            NaN              NaN             NaN  \n",
       "1  1,102,830,809              NaN                  \n",
       "2    887,379,274          629,589  1,409,458,588   \n",
       "3    271,490,188        4,139,392     65,586,967   \n",
       "4     63,776,166          295,480    215,839,289   "
      ]
     },
     "execution_count": 10,
     "metadata": {},
     "output_type": "execute_result"
    }
   ],
   "source": [
    "df.head()"
   ]
  },
  {
   "cell_type": "code",
   "execution_count": 11,
   "id": "5db3d7cb",
   "metadata": {
    "scrolled": false
   },
   "outputs": [
    {
     "data": {
      "text/html": [
       "<div>\n",
       "<style scoped>\n",
       "    .dataframe tbody tr th:only-of-type {\n",
       "        vertical-align: middle;\n",
       "    }\n",
       "\n",
       "    .dataframe tbody tr th {\n",
       "        vertical-align: top;\n",
       "    }\n",
       "\n",
       "    .dataframe thead th {\n",
       "        text-align: right;\n",
       "    }\n",
       "</style>\n",
       "<table border=\"1\" class=\"dataframe\">\n",
       "  <thead>\n",
       "    <tr style=\"text-align: right;\">\n",
       "      <th></th>\n",
       "      <th>Country</th>\n",
       "      <th>TotalCases</th>\n",
       "      <th>NewCases</th>\n",
       "      <th>TotalDeaths</th>\n",
       "      <th>NewDeaths</th>\n",
       "      <th>TotalRecovered</th>\n",
       "      <th>NewRecovered</th>\n",
       "      <th>ActiveCases</th>\n",
       "      <th>Serious</th>\n",
       "      <th>Tot Cases/1M pop</th>\n",
       "      <th>Deaths/1M pop</th>\n",
       "      <th>TotalTests</th>\n",
       "      <th>Tests/\\n1M pop\\n</th>\n",
       "      <th>Population</th>\n",
       "    </tr>\n",
       "  </thead>\n",
       "  <tbody>\n",
       "    <tr>\n",
       "      <th>0</th>\n",
       "      <td>World</td>\n",
       "      <td>610,506,373</td>\n",
       "      <td>272,448</td>\n",
       "      <td>6,504,493</td>\n",
       "      <td>758.0</td>\n",
       "      <td>587,445,506</td>\n",
       "      <td>590,791</td>\n",
       "      <td>16,556,374</td>\n",
       "      <td>42,311</td>\n",
       "      <td>78,322</td>\n",
       "      <td>834.5</td>\n",
       "      <td>NaN</td>\n",
       "      <td>NaN</td>\n",
       "      <td>NaN</td>\n",
       "    </tr>\n",
       "    <tr>\n",
       "      <th>1</th>\n",
       "      <td>USA</td>\n",
       "      <td>96,626,337</td>\n",
       "      <td>NaN</td>\n",
       "      <td>1,072,946</td>\n",
       "      <td>NaN</td>\n",
       "      <td>92,494,183</td>\n",
       "      <td>NaN</td>\n",
       "      <td>3,059,208</td>\n",
       "      <td>3,713</td>\n",
       "      <td>NaN</td>\n",
       "      <td>NaN</td>\n",
       "      <td>1,102,830,809</td>\n",
       "      <td>NaN</td>\n",
       "      <td></td>\n",
       "    </tr>\n",
       "    <tr>\n",
       "      <th>2</th>\n",
       "      <td>India</td>\n",
       "      <td>44,462,445</td>\n",
       "      <td>NaN</td>\n",
       "      <td>528,007</td>\n",
       "      <td>NaN</td>\n",
       "      <td>43,880,464</td>\n",
       "      <td>NaN</td>\n",
       "      <td>53,974</td>\n",
       "      <td>698</td>\n",
       "      <td>31,546</td>\n",
       "      <td>375</td>\n",
       "      <td>887,379,274</td>\n",
       "      <td>629,589</td>\n",
       "      <td>1,409,458,588</td>\n",
       "    </tr>\n",
       "    <tr>\n",
       "      <th>3</th>\n",
       "      <td>France</td>\n",
       "      <td>34,596,180</td>\n",
       "      <td>3,443</td>\n",
       "      <td>154,273</td>\n",
       "      <td>67.0</td>\n",
       "      <td>34,086,130</td>\n",
       "      <td>6,314</td>\n",
       "      <td>355,777</td>\n",
       "      <td>869</td>\n",
       "      <td>527,486</td>\n",
       "      <td>2,352</td>\n",
       "      <td>271,490,188</td>\n",
       "      <td>4,139,392</td>\n",
       "      <td>65,586,967</td>\n",
       "    </tr>\n",
       "    <tr>\n",
       "      <th>4</th>\n",
       "      <td>Brazil</td>\n",
       "      <td>34,517,770</td>\n",
       "      <td>NaN</td>\n",
       "      <td>684,427</td>\n",
       "      <td>NaN</td>\n",
       "      <td>33,502,447</td>\n",
       "      <td>NaN</td>\n",
       "      <td>330,896</td>\n",
       "      <td>8,318</td>\n",
       "      <td>159,923</td>\n",
       "      <td>3,171</td>\n",
       "      <td>63,776,166</td>\n",
       "      <td>295,480</td>\n",
       "      <td>215,839,289</td>\n",
       "    </tr>\n",
       "  </tbody>\n",
       "</table>\n",
       "</div>"
      ],
      "text/plain": [
       "  Country   TotalCases NewCases TotalDeaths  NewDeaths TotalRecovered  \\\n",
       "0   World  610,506,373  272,448   6,504,493      758.0    587,445,506   \n",
       "1     USA   96,626,337      NaN  1,072,946         NaN     92,494,183   \n",
       "2   India   44,462,445      NaN    528,007         NaN     43,880,464   \n",
       "3  France   34,596,180    3,443    154,273        67.0     34,086,130   \n",
       "4  Brazil   34,517,770      NaN    684,427         NaN     33,502,447   \n",
       "\n",
       "  NewRecovered ActiveCases Serious Tot Cases/1M pop Deaths/1M pop  \\\n",
       "0      590,791  16,556,374  42,311           78,322         834.5   \n",
       "1          NaN   3,059,208   3,713              NaN           NaN   \n",
       "2          NaN      53,974     698           31,546           375   \n",
       "3        6,314     355,777     869          527,486         2,352   \n",
       "4          NaN     330,896   8,318          159,923         3,171   \n",
       "\n",
       "      TotalTests Tests/\\n1M pop\\n      Population  \n",
       "0            NaN              NaN             NaN  \n",
       "1  1,102,830,809              NaN                  \n",
       "2    887,379,274          629,589  1,409,458,588   \n",
       "3    271,490,188        4,139,392     65,586,967   \n",
       "4     63,776,166          295,480    215,839,289   "
      ]
     },
     "execution_count": 11,
     "metadata": {},
     "output_type": "execute_result"
    }
   ],
   "source": [
    "for col in df.columns:\n",
    "    df[col] =df[col].replace(',','')\n",
    "df.head()"
   ]
  },
  {
   "cell_type": "code",
   "execution_count": 12,
   "id": "e4c88bf7",
   "metadata": {
    "scrolled": true
   },
   "outputs": [
    {
     "data": {
      "text/html": [
       "<div>\n",
       "<style scoped>\n",
       "    .dataframe tbody tr th:only-of-type {\n",
       "        vertical-align: middle;\n",
       "    }\n",
       "\n",
       "    .dataframe tbody tr th {\n",
       "        vertical-align: top;\n",
       "    }\n",
       "\n",
       "    .dataframe thead th {\n",
       "        text-align: right;\n",
       "    }\n",
       "</style>\n",
       "<table border=\"1\" class=\"dataframe\">\n",
       "  <thead>\n",
       "    <tr style=\"text-align: right;\">\n",
       "      <th></th>\n",
       "      <th>Country</th>\n",
       "      <th>TotalCases</th>\n",
       "      <th>NewCases</th>\n",
       "      <th>TotalDeaths</th>\n",
       "      <th>NewDeaths</th>\n",
       "      <th>TotalRecovered</th>\n",
       "      <th>NewRecovered</th>\n",
       "      <th>ActiveCases</th>\n",
       "      <th>Serious</th>\n",
       "      <th>Tot Cases/1M pop</th>\n",
       "      <th>Deaths/1M pop</th>\n",
       "      <th>TotalTests</th>\n",
       "      <th>Tests/\\n1M pop\\n</th>\n",
       "      <th>Population</th>\n",
       "    </tr>\n",
       "  </thead>\n",
       "  <tbody>\n",
       "    <tr>\n",
       "      <th>0</th>\n",
       "      <td>World</td>\n",
       "      <td>NaN</td>\n",
       "      <td>NaN</td>\n",
       "      <td>NaN</td>\n",
       "      <td>758.0</td>\n",
       "      <td>NaN</td>\n",
       "      <td>NaN</td>\n",
       "      <td>NaN</td>\n",
       "      <td>NaN</td>\n",
       "      <td>NaN</td>\n",
       "      <td>834.5</td>\n",
       "      <td>NaN</td>\n",
       "      <td>NaN</td>\n",
       "      <td>NaN</td>\n",
       "    </tr>\n",
       "    <tr>\n",
       "      <th>1</th>\n",
       "      <td>USA</td>\n",
       "      <td>NaN</td>\n",
       "      <td>NaN</td>\n",
       "      <td>NaN</td>\n",
       "      <td>NaN</td>\n",
       "      <td>NaN</td>\n",
       "      <td>NaN</td>\n",
       "      <td>NaN</td>\n",
       "      <td>NaN</td>\n",
       "      <td>NaN</td>\n",
       "      <td>NaN</td>\n",
       "      <td>NaN</td>\n",
       "      <td>NaN</td>\n",
       "      <td>NaN</td>\n",
       "    </tr>\n",
       "    <tr>\n",
       "      <th>2</th>\n",
       "      <td>India</td>\n",
       "      <td>NaN</td>\n",
       "      <td>NaN</td>\n",
       "      <td>NaN</td>\n",
       "      <td>NaN</td>\n",
       "      <td>NaN</td>\n",
       "      <td>NaN</td>\n",
       "      <td>NaN</td>\n",
       "      <td>698.0</td>\n",
       "      <td>NaN</td>\n",
       "      <td>375.0</td>\n",
       "      <td>NaN</td>\n",
       "      <td>NaN</td>\n",
       "      <td>NaN</td>\n",
       "    </tr>\n",
       "    <tr>\n",
       "      <th>3</th>\n",
       "      <td>France</td>\n",
       "      <td>NaN</td>\n",
       "      <td>NaN</td>\n",
       "      <td>NaN</td>\n",
       "      <td>67.0</td>\n",
       "      <td>NaN</td>\n",
       "      <td>NaN</td>\n",
       "      <td>NaN</td>\n",
       "      <td>869.0</td>\n",
       "      <td>NaN</td>\n",
       "      <td>NaN</td>\n",
       "      <td>NaN</td>\n",
       "      <td>NaN</td>\n",
       "      <td>NaN</td>\n",
       "    </tr>\n",
       "    <tr>\n",
       "      <th>4</th>\n",
       "      <td>Brazil</td>\n",
       "      <td>NaN</td>\n",
       "      <td>NaN</td>\n",
       "      <td>NaN</td>\n",
       "      <td>NaN</td>\n",
       "      <td>NaN</td>\n",
       "      <td>NaN</td>\n",
       "      <td>NaN</td>\n",
       "      <td>NaN</td>\n",
       "      <td>NaN</td>\n",
       "      <td>NaN</td>\n",
       "      <td>NaN</td>\n",
       "      <td>NaN</td>\n",
       "      <td>NaN</td>\n",
       "    </tr>\n",
       "  </tbody>\n",
       "</table>\n",
       "</div>"
      ],
      "text/plain": [
       "  Country  TotalCases  NewCases  TotalDeaths  NewDeaths  TotalRecovered  \\\n",
       "0   World         NaN       NaN          NaN      758.0             NaN   \n",
       "1     USA         NaN       NaN          NaN        NaN             NaN   \n",
       "2   India         NaN       NaN          NaN        NaN             NaN   \n",
       "3  France         NaN       NaN          NaN       67.0             NaN   \n",
       "4  Brazil         NaN       NaN          NaN        NaN             NaN   \n",
       "\n",
       "   NewRecovered  ActiveCases  Serious  Tot Cases/1M pop  Deaths/1M pop  \\\n",
       "0           NaN          NaN      NaN               NaN          834.5   \n",
       "1           NaN          NaN      NaN               NaN            NaN   \n",
       "2           NaN          NaN    698.0               NaN          375.0   \n",
       "3           NaN          NaN    869.0               NaN            NaN   \n",
       "4           NaN          NaN      NaN               NaN            NaN   \n",
       "\n",
       "   TotalTests  Tests/\\n1M pop\\n  Population  \n",
       "0         NaN               NaN         NaN  \n",
       "1         NaN               NaN         NaN  \n",
       "2         NaN               NaN         NaN  \n",
       "3         NaN               NaN         NaN  \n",
       "4         NaN               NaN         NaN  "
      ]
     },
     "execution_count": 12,
     "metadata": {},
     "output_type": "execute_result"
    }
   ],
   "source": [
    "for col in df.columns[1:]:\n",
    "    df[col] =pd.to_numeric(df[col], errors='coerce')\n",
    "df.head()"
   ]
  },
  {
   "cell_type": "code",
   "execution_count": 13,
   "id": "f8463a8e",
   "metadata": {
    "scrolled": false
   },
   "outputs": [
    {
     "name": "stdout",
     "output_type": "stream",
     "text": [
      "<class 'pandas.core.frame.DataFrame'>\n",
      "RangeIndex: 238 entries, 0 to 237\n",
      "Data columns (total 14 columns):\n",
      " #   Column            Non-Null Count  Dtype  \n",
      "---  ------            --------------  -----  \n",
      " 0   Country           238 non-null    object \n",
      " 1   TotalCases        10 non-null     float64\n",
      " 2   NewCases          44 non-null     float64\n",
      " 3   TotalDeaths       94 non-null     float64\n",
      " 4   NewDeaths         43 non-null     float64\n",
      " 5   TotalRecovered    10 non-null     float64\n",
      " 6   NewRecovered      36 non-null     float64\n",
      " 7   ActiveCases       94 non-null     float64\n",
      " 8   Serious           142 non-null    float64\n",
      " 9   Tot Cases/1M pop  9 non-null      float64\n",
      " 10  Deaths/1M pop     125 non-null    float64\n",
      " 11  TotalTests        0 non-null      float64\n",
      " 12  Tests/\n",
      "1M pop\n",
      "    0 non-null      float64\n",
      " 13  Population        1 non-null      float64\n",
      "dtypes: float64(13), object(1)\n",
      "memory usage: 26.2+ KB\n"
     ]
    }
   ],
   "source": [
    "df.info()"
   ]
  },
  {
   "cell_type": "code",
   "execution_count": 14,
   "id": "73d3b749",
   "metadata": {
    "scrolled": true
   },
   "outputs": [
    {
     "data": {
      "text/html": [
       "<div>\n",
       "<style scoped>\n",
       "    .dataframe tbody tr th:only-of-type {\n",
       "        vertical-align: middle;\n",
       "    }\n",
       "\n",
       "    .dataframe tbody tr th {\n",
       "        vertical-align: top;\n",
       "    }\n",
       "\n",
       "    .dataframe thead th {\n",
       "        text-align: right;\n",
       "    }\n",
       "</style>\n",
       "<table border=\"1\" class=\"dataframe\">\n",
       "  <thead>\n",
       "    <tr style=\"text-align: right;\">\n",
       "      <th></th>\n",
       "      <th>TotalCases</th>\n",
       "      <th>NewCases</th>\n",
       "      <th>TotalDeaths</th>\n",
       "      <th>NewDeaths</th>\n",
       "      <th>TotalRecovered</th>\n",
       "      <th>NewRecovered</th>\n",
       "      <th>ActiveCases</th>\n",
       "      <th>Serious</th>\n",
       "      <th>Tot Cases/1M pop</th>\n",
       "      <th>Deaths/1M pop</th>\n",
       "      <th>TotalTests</th>\n",
       "      <th>Tests/\\n1M pop\\n</th>\n",
       "      <th>Population</th>\n",
       "    </tr>\n",
       "  </thead>\n",
       "  <tbody>\n",
       "    <tr>\n",
       "      <th>0</th>\n",
       "      <td>NaN</td>\n",
       "      <td>NaN</td>\n",
       "      <td>NaN</td>\n",
       "      <td>758.0</td>\n",
       "      <td>NaN</td>\n",
       "      <td>NaN</td>\n",
       "      <td>NaN</td>\n",
       "      <td>NaN</td>\n",
       "      <td>NaN</td>\n",
       "      <td>834.5</td>\n",
       "      <td>NaN</td>\n",
       "      <td>NaN</td>\n",
       "      <td>NaN</td>\n",
       "    </tr>\n",
       "    <tr>\n",
       "      <th>1</th>\n",
       "      <td>NaN</td>\n",
       "      <td>NaN</td>\n",
       "      <td>NaN</td>\n",
       "      <td>NaN</td>\n",
       "      <td>NaN</td>\n",
       "      <td>NaN</td>\n",
       "      <td>NaN</td>\n",
       "      <td>NaN</td>\n",
       "      <td>NaN</td>\n",
       "      <td>NaN</td>\n",
       "      <td>NaN</td>\n",
       "      <td>NaN</td>\n",
       "      <td>NaN</td>\n",
       "    </tr>\n",
       "    <tr>\n",
       "      <th>2</th>\n",
       "      <td>NaN</td>\n",
       "      <td>NaN</td>\n",
       "      <td>NaN</td>\n",
       "      <td>NaN</td>\n",
       "      <td>NaN</td>\n",
       "      <td>NaN</td>\n",
       "      <td>NaN</td>\n",
       "      <td>698.0</td>\n",
       "      <td>NaN</td>\n",
       "      <td>375.0</td>\n",
       "      <td>NaN</td>\n",
       "      <td>NaN</td>\n",
       "      <td>NaN</td>\n",
       "    </tr>\n",
       "    <tr>\n",
       "      <th>3</th>\n",
       "      <td>NaN</td>\n",
       "      <td>NaN</td>\n",
       "      <td>NaN</td>\n",
       "      <td>67.0</td>\n",
       "      <td>NaN</td>\n",
       "      <td>NaN</td>\n",
       "      <td>NaN</td>\n",
       "      <td>869.0</td>\n",
       "      <td>NaN</td>\n",
       "      <td>NaN</td>\n",
       "      <td>NaN</td>\n",
       "      <td>NaN</td>\n",
       "      <td>NaN</td>\n",
       "    </tr>\n",
       "    <tr>\n",
       "      <th>4</th>\n",
       "      <td>NaN</td>\n",
       "      <td>NaN</td>\n",
       "      <td>NaN</td>\n",
       "      <td>NaN</td>\n",
       "      <td>NaN</td>\n",
       "      <td>NaN</td>\n",
       "      <td>NaN</td>\n",
       "      <td>NaN</td>\n",
       "      <td>NaN</td>\n",
       "      <td>NaN</td>\n",
       "      <td>NaN</td>\n",
       "      <td>NaN</td>\n",
       "      <td>NaN</td>\n",
       "    </tr>\n",
       "  </tbody>\n",
       "</table>\n",
       "</div>"
      ],
      "text/plain": [
       "   TotalCases  NewCases  TotalDeaths  NewDeaths  TotalRecovered  NewRecovered  \\\n",
       "0         NaN       NaN          NaN      758.0             NaN           NaN   \n",
       "1         NaN       NaN          NaN        NaN             NaN           NaN   \n",
       "2         NaN       NaN          NaN        NaN             NaN           NaN   \n",
       "3         NaN       NaN          NaN       67.0             NaN           NaN   \n",
       "4         NaN       NaN          NaN        NaN             NaN           NaN   \n",
       "\n",
       "   ActiveCases  Serious  Tot Cases/1M pop  Deaths/1M pop  TotalTests  \\\n",
       "0          NaN      NaN               NaN          834.5         NaN   \n",
       "1          NaN      NaN               NaN            NaN         NaN   \n",
       "2          NaN    698.0               NaN          375.0         NaN   \n",
       "3          NaN    869.0               NaN            NaN         NaN   \n",
       "4          NaN      NaN               NaN            NaN         NaN   \n",
       "\n",
       "   Tests/\\n1M pop\\n  Population  \n",
       "0               NaN         NaN  \n",
       "1               NaN         NaN  \n",
       "2               NaN         NaN  \n",
       "3               NaN         NaN  \n",
       "4               NaN         NaN  "
      ]
     },
     "execution_count": 14,
     "metadata": {},
     "output_type": "execute_result"
    }
   ],
   "source": [
    "d=df.drop(['Country'], axis='columns')\n",
    "d.head()"
   ]
  },
  {
   "cell_type": "code",
   "execution_count": 15,
   "id": "97ed23ec",
   "metadata": {
    "scrolled": false
   },
   "outputs": [
    {
     "name": "stderr",
     "output_type": "stream",
     "text": [
      "C:\\Users\\User\\anaconda3\\lib\\site-packages\\seaborn\\_decorators.py:36: FutureWarning: Pass the following variable as a keyword arg: x. From version 0.12, the only valid positional argument will be `data`, and passing other arguments without an explicit keyword will result in an error or misinterpretation.\n",
      "  warnings.warn(\n"
     ]
    },
    {
     "data": {
      "image/png": "[encoded data removed]",
      "text/plain": [
       "<Figure size 432x288 with 1 Axes>"
      ]
     },
     "metadata": {
      "needs_background": "light"
     },
     "output_type": "display_data"
    },
    {
     "name": "stderr",
     "output_type": "stream",
     "text": [
      "C:\\Users\\User\\anaconda3\\lib\\site-packages\\seaborn\\_decorators.py:36: FutureWarning: Pass the following variable as a keyword arg: x. From version 0.12, the only valid positional argument will be `data`, and passing other arguments without an explicit keyword will result in an error or misinterpretation.\n",
      "  warnings.warn(\n"
     ]
    },
    {
     "data": {
      "image/png": "[encoded data removed]",
      "text/plain": [
       "<Figure size 432x288 with 1 Axes>"
      ]
     },
     "metadata": {
      "needs_background": "light"
     },
     "output_type": "display_data"
    },
    {
     "name": "stderr",
     "output_type": "stream",
     "text": [
      "C:\\Users\\User\\anaconda3\\lib\\site-packages\\seaborn\\_decorators.py:36: FutureWarning: Pass the following variable as a keyword arg: x. From version 0.12, the only valid positional argument will be `data`, and passing other arguments without an explicit keyword will result in an error or misinterpretation.\n",
      "  warnings.warn(\n"
     ]
    },
    {
     "data": {
      "image/png": "[encoded data removed]",
      "text/plain": [
       "<Figure size 432x288 with 1 Axes>"
      ]
     },
     "metadata": {
      "needs_background": "light"
     },
     "output_type": "display_data"
    },
    {
     "name": "stderr",
     "output_type": "stream",
     "text": [
      "C:\\Users\\User\\anaconda3\\lib\\site-packages\\seaborn\\_decorators.py:36: FutureWarning: Pass the following variable as a keyword arg: x. From version 0.12, the only valid positional argument will be `data`, and passing other arguments without an explicit keyword will result in an error or misinterpretation.\n",
      "  warnings.warn(\n"
     ]
    },
    {
     "data": {
      "image/png": "[encoded data removed]",
      "text/plain": [
       "<Figure size 432x288 with 1 Axes>"
      ]
     },
     "metadata": {
      "needs_background": "light"
     },
     "output_type": "display_data"
    },
    {
     "name": "stderr",
     "output_type": "stream",
     "text": [
      "C:\\Users\\User\\anaconda3\\lib\\site-packages\\seaborn\\_decorators.py:36: FutureWarning: Pass the following variable as a keyword arg: x. From version 0.12, the only valid positional argument will be `data`, and passing other arguments without an explicit keyword will result in an error or misinterpretation.\n",
      "  warnings.warn(\n"
     ]
    },
    {
     "data": {
      "image/png": "[encoded data removed]",
      "text/plain": [
       "<Figure size 432x288 with 1 Axes>"
      ]
     },
     "metadata": {
      "needs_background": "light"
     },
     "output_type": "display_data"
    },
    {
     "name": "stderr",
     "output_type": "stream",
     "text": [
      "C:\\Users\\User\\anaconda3\\lib\\site-packages\\seaborn\\_decorators.py:36: FutureWarning: Pass the following variable as a keyword arg: x. From version 0.12, the only valid positional argument will be `data`, and passing other arguments without an explicit keyword will result in an error or misinterpretation.\n",
      "  warnings.warn(\n"
     ]
    },
    {
     "data": {
      "image/png": "[encoded data removed]",
      "text/plain": [
       "<Figure size 432x288 with 1 Axes>"
      ]
     },
     "metadata": {
      "needs_background": "light"
     },
     "output_type": "display_data"
    },
    {
     "name": "stderr",
     "output_type": "stream",
     "text": [
      "C:\\Users\\User\\anaconda3\\lib\\site-packages\\seaborn\\_decorators.py:36: FutureWarning: Pass the following variable as a keyword arg: x. From version 0.12, the only valid positional argument will be `data`, and passing other arguments without an explicit keyword will result in an error or misinterpretation.\n",
      "  warnings.warn(\n"
     ]
    },
    {
     "data": {
      "image/png": "[encoded data removed]",
      "text/plain": [
       "<Figure size 432x288 with 1 Axes>"
      ]
     },
     "metadata": {
      "needs_background": "light"
     },
     "output_type": "display_data"
    },
    {
     "name": "stderr",
     "output_type": "stream",
     "text": [
      "C:\\Users\\User\\anaconda3\\lib\\site-packages\\seaborn\\_decorators.py:36: FutureWarning: Pass the following variable as a keyword arg: x. From version 0.12, the only valid positional argument will be `data`, and passing other arguments without an explicit keyword will result in an error or misinterpretation.\n",
      "  warnings.warn(\n"
     ]
    },
    {
     "data": {
      "image/png": "[encoded data removed]",
      "text/plain": [
       "<Figure size 432x288 with 1 Axes>"
      ]
     },
     "metadata": {
      "needs_background": "light"
     },
     "output_type": "display_data"
    },
    {
     "name": "stderr",
     "output_type": "stream",
     "text": [
      "C:\\Users\\User\\anaconda3\\lib\\site-packages\\seaborn\\_decorators.py:36: FutureWarning: Pass the following variable as a keyword arg: x. From version 0.12, the only valid positional argument will be `data`, and passing other arguments without an explicit keyword will result in an error or misinterpretation.\n",
      "  warnings.warn(\n"
     ]
    },
    {
     "data": {
      "image/png": "[encoded data removed]",
      "text/plain": [
       "<Figure size 432x288 with 1 Axes>"
      ]
     },
     "metadata": {
      "needs_background": "light"
     },
     "output_type": "display_data"
    },
    {
     "name": "stderr",
     "output_type": "stream",
     "text": [
      "C:\\Users\\User\\anaconda3\\lib\\site-packages\\seaborn\\_decorators.py:36: FutureWarning: Pass the following variable as a keyword arg: x. From version 0.12, the only valid positional argument will be `data`, and passing other arguments without an explicit keyword will result in an error or misinterpretation.\n",
      "  warnings.warn(\n"
     ]
    },
    {
     "data": {
      "image/png": "[encoded data removed]",
      "text/plain": [
       "<Figure size 432x288 with 1 Axes>"
      ]
     },
     "metadata": {
      "needs_background": "light"
     },
     "output_type": "display_data"
    },
    {
     "name": "stderr",
     "output_type": "stream",
     "text": [
      "C:\\Users\\User\\anaconda3\\lib\\site-packages\\seaborn\\_decorators.py:36: FutureWarning: Pass the following variable as a keyword arg: x. From version 0.12, the only valid positional argument will be `data`, and passing other arguments without an explicit keyword will result in an error or misinterpretation.\n",
      "  warnings.warn(\n"
     ]
    },
    {
     "data": {
      "image/png": "[encoded data removed]",
      "text/plain": [
       "<Figure size 432x288 with 1 Axes>"
      ]
     },
     "metadata": {
      "needs_background": "light"
     },
     "output_type": "display_data"
    },
    {
     "data": {
      "image/png": "[encoded data removed]",
      "text/plain": [
       "<Figure size 432x288 with 1 Axes>"
      ]
     },
     "metadata": {
      "needs_background": "light"
     },
     "output_type": "display_data"
    },
    {
     "data": {
      "image/png": "[encoded data removed]",
      "text/plain": [
       "<Figure size 432x288 with 1 Axes>"
      ]
     },
     "metadata": {
      "needs_background": "light"
     },
     "output_type": "display_data"
    }
   ],
   "source": [
    "for i in d:\n",
    "    sns.boxplot(d[i])\n",
    "    plt.title(i)\n",
    "    plt.show()\n",
    "    "
   ]
  },
  {
   "cell_type": "code",
   "execution_count": 16,
   "id": "e900b97c",
   "metadata": {
    "scrolled": true
   },
   "outputs": [
    {
     "data": {
      "text/plain": [
       "Country               0\n",
       "TotalCases          228\n",
       "NewCases            194\n",
       "TotalDeaths         144\n",
       "NewDeaths           195\n",
       "TotalRecovered      228\n",
       "NewRecovered        202\n",
       "ActiveCases         144\n",
       "Serious              96\n",
       "Tot Cases/1M pop    229\n",
       "Deaths/1M pop       113\n",
       "TotalTests          238\n",
       "Tests/\\n1M pop\\n    238\n",
       "Population          237\n",
       "dtype: int64"
      ]
     },
     "execution_count": 16,
     "metadata": {},
     "output_type": "execute_result"
    }
   ],
   "source": [
    "df.isnull().sum()"
   ]
  },
  {
   "cell_type": "code",
   "execution_count": 17,
   "id": "2b695fe8",
   "metadata": {},
   "outputs": [
    {
     "data": {
      "text/plain": [
       "Country             0\n",
       "TotalCases          0\n",
       "NewCases            0\n",
       "TotalDeaths         0\n",
       "NewDeaths           0\n",
       "TotalRecovered      0\n",
       "NewRecovered        0\n",
       "ActiveCases         0\n",
       "Serious             0\n",
       "Tot Cases/1M pop    0\n",
       "Deaths/1M pop       0\n",
       "TotalTests          0\n",
       "Tests/\\n1M pop\\n    0\n",
       "Population          0\n",
       "dtype: int64"
      ]
     },
     "execution_count": 17,
     "metadata": {},
     "output_type": "execute_result"
    }
   ],
   "source": [
    "df=df.fillna(0)\n",
    "df.isnull().sum()"
   ]
  },
  {
   "cell_type": "code",
   "execution_count": 18,
   "id": "f8296026",
   "metadata": {},
   "outputs": [
    {
     "data": {
      "text/html": [
       "<div>\n",
       "<style scoped>\n",
       "    .dataframe tbody tr th:only-of-type {\n",
       "        vertical-align: middle;\n",
       "    }\n",
       "\n",
       "    .dataframe tbody tr th {\n",
       "        vertical-align: top;\n",
       "    }\n",
       "\n",
       "    .dataframe thead th {\n",
       "        text-align: right;\n",
       "    }\n",
       "</style>\n",
       "<table border=\"1\" class=\"dataframe\">\n",
       "  <thead>\n",
       "    <tr style=\"text-align: right;\">\n",
       "      <th></th>\n",
       "      <th>ActiveCases</th>\n",
       "      <th>Deaths/1M pop</th>\n",
       "      <th>NewCases</th>\n",
       "      <th>NewDeaths</th>\n",
       "      <th>NewRecovered</th>\n",
       "      <th>Population</th>\n",
       "      <th>Serious</th>\n",
       "      <th>Tests/\\n1M pop\\n</th>\n",
       "      <th>TotalCases</th>\n",
       "      <th>TotalDeaths</th>\n",
       "      <th>TotalRecovered</th>\n",
       "      <th>TotalTests</th>\n",
       "    </tr>\n",
       "    <tr>\n",
       "      <th>Country</th>\n",
       "      <th></th>\n",
       "      <th></th>\n",
       "      <th></th>\n",
       "      <th></th>\n",
       "      <th></th>\n",
       "      <th></th>\n",
       "      <th></th>\n",
       "      <th></th>\n",
       "      <th></th>\n",
       "      <th></th>\n",
       "      <th></th>\n",
       "      <th></th>\n",
       "    </tr>\n",
       "  </thead>\n",
       "  <tbody>\n",
       "    <tr>\n",
       "      <th>Afghanistan</th>\n",
       "      <td>0.0</td>\n",
       "      <td>191.0</td>\n",
       "      <td>121.0</td>\n",
       "      <td>1.0</td>\n",
       "      <td>229.0</td>\n",
       "      <td>0.0</td>\n",
       "      <td>0.0</td>\n",
       "      <td>0.0</td>\n",
       "      <td>0.0</td>\n",
       "      <td>0.0</td>\n",
       "      <td>0.0</td>\n",
       "      <td>0.0</td>\n",
       "    </tr>\n",
       "    <tr>\n",
       "      <th>Albania</th>\n",
       "      <td>0.0</td>\n",
       "      <td>0.0</td>\n",
       "      <td>28.0</td>\n",
       "      <td>0.0</td>\n",
       "      <td>228.0</td>\n",
       "      <td>0.0</td>\n",
       "      <td>0.0</td>\n",
       "      <td>0.0</td>\n",
       "      <td>0.0</td>\n",
       "      <td>0.0</td>\n",
       "      <td>0.0</td>\n",
       "      <td>0.0</td>\n",
       "    </tr>\n",
       "    <tr>\n",
       "      <th>Algeria</th>\n",
       "      <td>0.0</td>\n",
       "      <td>151.0</td>\n",
       "      <td>18.0</td>\n",
       "      <td>0.0</td>\n",
       "      <td>21.0</td>\n",
       "      <td>0.0</td>\n",
       "      <td>6.0</td>\n",
       "      <td>0.0</td>\n",
       "      <td>0.0</td>\n",
       "      <td>0.0</td>\n",
       "      <td>0.0</td>\n",
       "      <td>0.0</td>\n",
       "    </tr>\n",
       "    <tr>\n",
       "      <th>Andorra</th>\n",
       "      <td>82.0</td>\n",
       "      <td>0.0</td>\n",
       "      <td>0.0</td>\n",
       "      <td>0.0</td>\n",
       "      <td>0.0</td>\n",
       "      <td>0.0</td>\n",
       "      <td>14.0</td>\n",
       "      <td>0.0</td>\n",
       "      <td>0.0</td>\n",
       "      <td>154.0</td>\n",
       "      <td>0.0</td>\n",
       "      <td>0.0</td>\n",
       "    </tr>\n",
       "    <tr>\n",
       "      <th>Angola</th>\n",
       "      <td>282.0</td>\n",
       "      <td>55.0</td>\n",
       "      <td>0.0</td>\n",
       "      <td>0.0</td>\n",
       "      <td>0.0</td>\n",
       "      <td>0.0</td>\n",
       "      <td>0.0</td>\n",
       "      <td>0.0</td>\n",
       "      <td>0.0</td>\n",
       "      <td>0.0</td>\n",
       "      <td>0.0</td>\n",
       "      <td>0.0</td>\n",
       "    </tr>\n",
       "    <tr>\n",
       "      <th>...</th>\n",
       "      <td>...</td>\n",
       "      <td>...</td>\n",
       "      <td>...</td>\n",
       "      <td>...</td>\n",
       "      <td>...</td>\n",
       "      <td>...</td>\n",
       "      <td>...</td>\n",
       "      <td>...</td>\n",
       "      <td>...</td>\n",
       "      <td>...</td>\n",
       "      <td>...</td>\n",
       "      <td>...</td>\n",
       "    </tr>\n",
       "    <tr>\n",
       "      <th>Western Sahara</th>\n",
       "      <td>0.0</td>\n",
       "      <td>2.0</td>\n",
       "      <td>0.0</td>\n",
       "      <td>0.0</td>\n",
       "      <td>0.0</td>\n",
       "      <td>0.0</td>\n",
       "      <td>0.0</td>\n",
       "      <td>0.0</td>\n",
       "      <td>10.0</td>\n",
       "      <td>1.0</td>\n",
       "      <td>9.0</td>\n",
       "      <td>0.0</td>\n",
       "    </tr>\n",
       "    <tr>\n",
       "      <th>World</th>\n",
       "      <td>0.0</td>\n",
       "      <td>834.5</td>\n",
       "      <td>0.0</td>\n",
       "      <td>758.0</td>\n",
       "      <td>0.0</td>\n",
       "      <td>0.0</td>\n",
       "      <td>0.0</td>\n",
       "      <td>0.0</td>\n",
       "      <td>0.0</td>\n",
       "      <td>0.0</td>\n",
       "      <td>0.0</td>\n",
       "      <td>0.0</td>\n",
       "    </tr>\n",
       "    <tr>\n",
       "      <th>Yemen</th>\n",
       "      <td>657.0</td>\n",
       "      <td>69.0</td>\n",
       "      <td>0.0</td>\n",
       "      <td>0.0</td>\n",
       "      <td>0.0</td>\n",
       "      <td>0.0</td>\n",
       "      <td>23.0</td>\n",
       "      <td>0.0</td>\n",
       "      <td>0.0</td>\n",
       "      <td>0.0</td>\n",
       "      <td>0.0</td>\n",
       "      <td>0.0</td>\n",
       "    </tr>\n",
       "    <tr>\n",
       "      <th>Zambia</th>\n",
       "      <td>358.0</td>\n",
       "      <td>206.0</td>\n",
       "      <td>0.0</td>\n",
       "      <td>0.0</td>\n",
       "      <td>0.0</td>\n",
       "      <td>0.0</td>\n",
       "      <td>1.0</td>\n",
       "      <td>0.0</td>\n",
       "      <td>0.0</td>\n",
       "      <td>0.0</td>\n",
       "      <td>0.0</td>\n",
       "      <td>0.0</td>\n",
       "    </tr>\n",
       "    <tr>\n",
       "      <th>Zimbabwe</th>\n",
       "      <td>145.0</td>\n",
       "      <td>365.0</td>\n",
       "      <td>0.0</td>\n",
       "      <td>0.0</td>\n",
       "      <td>0.0</td>\n",
       "      <td>0.0</td>\n",
       "      <td>12.0</td>\n",
       "      <td>0.0</td>\n",
       "      <td>0.0</td>\n",
       "      <td>0.0</td>\n",
       "      <td>0.0</td>\n",
       "      <td>0.0</td>\n",
       "    </tr>\n",
       "  </tbody>\n",
       "</table>\n",
       "<p>232 rows × 12 columns</p>\n",
       "</div>"
      ],
      "text/plain": [
       "                ActiveCases  Deaths/1M pop  NewCases  NewDeaths  NewRecovered  \\\n",
       "Country                                                                         \n",
       "Afghanistan             0.0          191.0     121.0        1.0         229.0   \n",
       "Albania                 0.0            0.0      28.0        0.0         228.0   \n",
       "Algeria                 0.0          151.0      18.0        0.0          21.0   \n",
       "Andorra                82.0            0.0       0.0        0.0           0.0   \n",
       "Angola                282.0           55.0       0.0        0.0           0.0   \n",
       "...                     ...            ...       ...        ...           ...   \n",
       "Western Sahara          0.0            2.0       0.0        0.0           0.0   \n",
       "World                   0.0          834.5       0.0      758.0           0.0   \n",
       "Yemen                 657.0           69.0       0.0        0.0           0.0   \n",
       "Zambia                358.0          206.0       0.0        0.0           0.0   \n",
       "Zimbabwe              145.0          365.0       0.0        0.0           0.0   \n",
       "\n",
       "                Population  Serious  Tests/\\n1M pop\\n  TotalCases  \\\n",
       "Country                                                             \n",
       "Afghanistan            0.0      0.0               0.0         0.0   \n",
       "Albania                0.0      0.0               0.0         0.0   \n",
       "Algeria                0.0      6.0               0.0         0.0   \n",
       "Andorra                0.0     14.0               0.0         0.0   \n",
       "Angola                 0.0      0.0               0.0         0.0   \n",
       "...                    ...      ...               ...         ...   \n",
       "Western Sahara         0.0      0.0               0.0        10.0   \n",
       "World                  0.0      0.0               0.0         0.0   \n",
       "Yemen                  0.0     23.0               0.0         0.0   \n",
       "Zambia                 0.0      1.0               0.0         0.0   \n",
       "Zimbabwe               0.0     12.0               0.0         0.0   \n",
       "\n",
       "                TotalDeaths  TotalRecovered  TotalTests  \n",
       "Country                                                  \n",
       "Afghanistan             0.0             0.0         0.0  \n",
       "Albania                 0.0             0.0         0.0  \n",
       "Algeria                 0.0             0.0         0.0  \n",
       "Andorra               154.0             0.0         0.0  \n",
       "Angola                  0.0             0.0         0.0  \n",
       "...                     ...             ...         ...  \n",
       "Western Sahara          1.0             9.0         0.0  \n",
       "World                   0.0             0.0         0.0  \n",
       "Yemen                   0.0             0.0         0.0  \n",
       "Zambia                  0.0             0.0         0.0  \n",
       "Zimbabwe                0.0             0.0         0.0  \n",
       "\n",
       "[232 rows x 12 columns]"
      ]
     },
     "execution_count": 18,
     "metadata": {},
     "output_type": "execute_result"
    }
   ],
   "source": [
    "pd.pivot_table(df, index='Country', values=['TotalCases','NewCases','TotalDeaths','NewDeaths','TotalRecovered','NewRecovered','ActiveCases','Serious','Deaths/1M pop','TotalTests','Tests/\\n1M pop\\n','Population'])"
   ]
  },
  {
   "cell_type": "code",
   "execution_count": 19,
   "id": "c21a9187",
   "metadata": {},
   "outputs": [
    {
     "data": {
      "text/plain": [
       "<AxesSubplot:>"
      ]
     },
     "execution_count": 19,
     "metadata": {},
     "output_type": "execute_result"
    },
    {
     "data": {
      "image/png": "[encoded data removed]",
      "text/plain": [
       "<Figure size 432x288 with 2 Axes>"
      ]
     },
     "metadata": {
      "needs_background": "light"
     },
     "output_type": "display_data"
    }
   ],
   "source": [
    "cor=df.select_dtypes(py.number).corr()\n",
    "sns.heatmap(cor)"
   ]
  },
  {
   "cell_type": "code",
   "execution_count": 20,
   "id": "69ef8dc2",
   "metadata": {},
   "outputs": [
    {
     "data": {
      "text/html": [
       "<div>\n",
       "<style scoped>\n",
       "    .dataframe tbody tr th:only-of-type {\n",
       "        vertical-align: middle;\n",
       "    }\n",
       "\n",
       "    .dataframe tbody tr th {\n",
       "        vertical-align: top;\n",
       "    }\n",
       "\n",
       "    .dataframe thead th {\n",
       "        text-align: right;\n",
       "    }\n",
       "</style>\n",
       "<table border=\"1\" class=\"dataframe\">\n",
       "  <thead>\n",
       "    <tr style=\"text-align: right;\">\n",
       "      <th></th>\n",
       "      <th>TotalCases</th>\n",
       "    </tr>\n",
       "    <tr>\n",
       "      <th>Country</th>\n",
       "      <th></th>\n",
       "    </tr>\n",
       "  </thead>\n",
       "  <tbody>\n",
       "    <tr>\n",
       "      <th>Macao</th>\n",
       "      <td>793.0</td>\n",
       "    </tr>\n",
       "    <tr>\n",
       "      <th>Wallis and Futuna</th>\n",
       "      <td>761.0</td>\n",
       "    </tr>\n",
       "    <tr>\n",
       "      <th>Diamond Princess</th>\n",
       "      <td>712.0</td>\n",
       "    </tr>\n",
       "    <tr>\n",
       "      <th>Total:</th>\n",
       "      <td>103.0</td>\n",
       "    </tr>\n",
       "    <tr>\n",
       "      <th>Niue</th>\n",
       "      <td>73.0</td>\n",
       "    </tr>\n",
       "  </tbody>\n",
       "</table>\n",
       "</div>"
      ],
      "text/plain": [
       "                   TotalCases\n",
       "Country                      \n",
       "Macao                   793.0\n",
       "Wallis and Futuna       761.0\n",
       "Diamond Princess        712.0\n",
       "Total:                  103.0\n",
       "Niue                     73.0"
      ]
     },
     "execution_count": 20,
     "metadata": {},
     "output_type": "execute_result"
    }
   ],
   "source": [
    "z=pd.pivot_table(df, index='Country', values=['TotalCases']).sort_values(by='TotalCases', ascending=False).round()\n",
    "z.head()"
   ]
  },
  {
   "cell_type": "code",
   "execution_count": 21,
   "id": "baa6f466",
   "metadata": {},
   "outputs": [
    {
     "data": {
      "text/html": [
       "<div>\n",
       "<style scoped>\n",
       "    .dataframe tbody tr th:only-of-type {\n",
       "        vertical-align: middle;\n",
       "    }\n",
       "\n",
       "    .dataframe tbody tr th {\n",
       "        vertical-align: top;\n",
       "    }\n",
       "\n",
       "    .dataframe thead th {\n",
       "        text-align: right;\n",
       "    }\n",
       "</style>\n",
       "<table border=\"1\" class=\"dataframe\">\n",
       "  <thead>\n",
       "    <tr style=\"text-align: right;\">\n",
       "      <th></th>\n",
       "      <th>NewCases</th>\n",
       "    </tr>\n",
       "    <tr>\n",
       "      <th>Country</th>\n",
       "      <th></th>\n",
       "    </tr>\n",
       "  </thead>\n",
       "  <tbody>\n",
       "    <tr>\n",
       "      <th>Mexico</th>\n",
       "      <td>990.0</td>\n",
       "    </tr>\n",
       "    <tr>\n",
       "      <th>Portugal</th>\n",
       "      <td>713.0</td>\n",
       "    </tr>\n",
       "    <tr>\n",
       "      <th>Qatar</th>\n",
       "      <td>683.0</td>\n",
       "    </tr>\n",
       "    <tr>\n",
       "      <th>Azerbaijan</th>\n",
       "      <td>621.0</td>\n",
       "    </tr>\n",
       "    <tr>\n",
       "      <th>Kazakhstan</th>\n",
       "      <td>562.0</td>\n",
       "    </tr>\n",
       "  </tbody>\n",
       "</table>\n",
       "</div>"
      ],
      "text/plain": [
       "            NewCases\n",
       "Country             \n",
       "Mexico         990.0\n",
       "Portugal       713.0\n",
       "Qatar          683.0\n",
       "Azerbaijan     621.0\n",
       "Kazakhstan     562.0"
      ]
     },
     "execution_count": 21,
     "metadata": {},
     "output_type": "execute_result"
    }
   ],
   "source": [
    "z=pd.pivot_table(df, index='Country', values=['NewCases']).sort_values(by='NewCases', ascending=False).round()\n",
    "z.head()"
   ]
  },
  {
   "cell_type": "code",
   "execution_count": 22,
   "id": "e992f700",
   "metadata": {},
   "outputs": [
    {
     "data": {
      "text/html": [
       "<div>\n",
       "<style scoped>\n",
       "    .dataframe tbody tr th:only-of-type {\n",
       "        vertical-align: middle;\n",
       "    }\n",
       "\n",
       "    .dataframe tbody tr th {\n",
       "        vertical-align: top;\n",
       "    }\n",
       "\n",
       "    .dataframe thead th {\n",
       "        text-align: right;\n",
       "    }\n",
       "</style>\n",
       "<table border=\"1\" class=\"dataframe\">\n",
       "  <thead>\n",
       "    <tr style=\"text-align: right;\">\n",
       "      <th></th>\n",
       "      <th>TotalDeaths</th>\n",
       "    </tr>\n",
       "    <tr>\n",
       "      <th>Country</th>\n",
       "      <th></th>\n",
       "    </tr>\n",
       "  </thead>\n",
       "  <tbody>\n",
       "    <tr>\n",
       "      <th>Mauritania</th>\n",
       "      <td>993.0</td>\n",
       "    </tr>\n",
       "    <tr>\n",
       "      <th>Guadeloupe</th>\n",
       "      <td>986.0</td>\n",
       "    </tr>\n",
       "    <tr>\n",
       "      <th>Fiji</th>\n",
       "      <td>878.0</td>\n",
       "    </tr>\n",
       "    <tr>\n",
       "      <th>Réunion</th>\n",
       "      <td>874.0</td>\n",
       "    </tr>\n",
       "    <tr>\n",
       "      <th>Haiti</th>\n",
       "      <td>841.0</td>\n",
       "    </tr>\n",
       "  </tbody>\n",
       "</table>\n",
       "</div>"
      ],
      "text/plain": [
       "            TotalDeaths\n",
       "Country                \n",
       "Mauritania        993.0\n",
       "Guadeloupe        986.0\n",
       "Fiji              878.0\n",
       "Réunion           874.0\n",
       "Haiti             841.0"
      ]
     },
     "execution_count": 22,
     "metadata": {},
     "output_type": "execute_result"
    }
   ],
   "source": [
    "z=pd.pivot_table(df, index='Country', values=['TotalDeaths']).sort_values(by='TotalDeaths', ascending=False).round()\n",
    "z.head()"
   ]
  },
  {
   "cell_type": "code",
   "execution_count": 23,
   "id": "0b393836",
   "metadata": {},
   "outputs": [
    {
     "data": {
      "text/html": [
       "<div>\n",
       "<style scoped>\n",
       "    .dataframe tbody tr th:only-of-type {\n",
       "        vertical-align: middle;\n",
       "    }\n",
       "\n",
       "    .dataframe tbody tr th {\n",
       "        vertical-align: top;\n",
       "    }\n",
       "\n",
       "    .dataframe thead th {\n",
       "        text-align: right;\n",
       "    }\n",
       "</style>\n",
       "<table border=\"1\" class=\"dataframe\">\n",
       "  <thead>\n",
       "    <tr style=\"text-align: right;\">\n",
       "      <th></th>\n",
       "      <th>ActiveCases</th>\n",
       "    </tr>\n",
       "    <tr>\n",
       "      <th>Country</th>\n",
       "      <th></th>\n",
       "    </tr>\n",
       "  </thead>\n",
       "  <tbody>\n",
       "    <tr>\n",
       "      <th>Barbados</th>\n",
       "      <td>817.0</td>\n",
       "    </tr>\n",
       "    <tr>\n",
       "      <th>Burundi</th>\n",
       "      <td>754.0</td>\n",
       "    </tr>\n",
       "    <tr>\n",
       "      <th>Niger</th>\n",
       "      <td>752.0</td>\n",
       "    </tr>\n",
       "    <tr>\n",
       "      <th>Tonga</th>\n",
       "      <td>750.0</td>\n",
       "    </tr>\n",
       "    <tr>\n",
       "      <th>Kiribati</th>\n",
       "      <td>714.0</td>\n",
       "    </tr>\n",
       "  </tbody>\n",
       "</table>\n",
       "</div>"
      ],
      "text/plain": [
       "          ActiveCases\n",
       "Country              \n",
       "Barbados        817.0\n",
       "Burundi         754.0\n",
       "Niger           752.0\n",
       "Tonga           750.0\n",
       "Kiribati        714.0"
      ]
     },
     "execution_count": 23,
     "metadata": {},
     "output_type": "execute_result"
    }
   ],
   "source": [
    "z=pd.pivot_table(df, index='Country', values=['ActiveCases']).sort_values(by='ActiveCases', ascending=False).round()\n",
    "z.head()"
   ]
  },
  {
   "cell_type": "code",
   "execution_count": 24,
   "id": "a43206d7",
   "metadata": {
    "scrolled": true
   },
   "outputs": [
    {
     "name": "stderr",
     "output_type": "stream",
     "text": [
      "C:\\Users\\User\\anaconda3\\lib\\site-packages\\seaborn\\_decorators.py:36: FutureWarning: Pass the following variables as keyword args: x, y. From version 0.12, the only valid positional argument will be `data`, and passing other arguments without an explicit keyword will result in an error or misinterpretation.\n",
      "  warnings.warn(\n"
     ]
    },
    {
     "data": {
      "text/plain": [
       "<AxesSubplot:xlabel='TotalTests', ylabel='TotalCases'>"
      ]
     },
     "execution_count": 24,
     "metadata": {},
     "output_type": "execute_result"
    },
    {
     "data": {
      "image/png": "[encoded data removed]",
      "text/plain": [
       "<Figure size 432x288 with 1 Axes>"
      ]
     },
     "metadata": {
      "needs_background": "light"
     },
     "output_type": "display_data"
    }
   ],
   "source": [
    "sns.scatterplot(df.TotalTests,df.TotalCases)"
   ]
  },
  {
   "cell_type": "code",
   "execution_count": 25,
   "id": "fc6767f9",
   "metadata": {},
   "outputs": [
    {
     "name": "stderr",
     "output_type": "stream",
     "text": [
      "C:\\Users\\User\\anaconda3\\lib\\site-packages\\seaborn\\_decorators.py:36: FutureWarning: Pass the following variables as keyword args: x, y. From version 0.12, the only valid positional argument will be `data`, and passing other arguments without an explicit keyword will result in an error or misinterpretation.\n",
      "  warnings.warn(\n"
     ]
    },
    {
     "data": {
      "text/plain": [
       "<AxesSubplot:xlabel='NewCases', ylabel='TotalTests'>"
      ]
     },
     "execution_count": 25,
     "metadata": {},
     "output_type": "execute_result"
    },
    {
     "data": {
      "image/png": "[encoded data removed]",
      "text/plain": [
       "<Figure size 432x288 with 1 Axes>"
      ]
     },
     "metadata": {
      "needs_background": "light"
     },
     "output_type": "display_data"
    }
   ],
   "source": [
    "sns.scatterplot(df.NewCases,df.TotalTests)"
   ]
  },
  {
   "cell_type": "code",
   "execution_count": 26,
   "id": "438da36e",
   "metadata": {},
   "outputs": [
    {
     "name": "stderr",
     "output_type": "stream",
     "text": [
      "C:\\Users\\User\\anaconda3\\lib\\site-packages\\seaborn\\_decorators.py:36: FutureWarning: Pass the following variables as keyword args: x, y. From version 0.12, the only valid positional argument will be `data`, and passing other arguments without an explicit keyword will result in an error or misinterpretation.\n",
      "  warnings.warn(\n"
     ]
    },
    {
     "data": {
      "text/plain": [
       "<AxesSubplot:xlabel='TotalTests', ylabel='NewCases'>"
      ]
     },
     "execution_count": 26,
     "metadata": {},
     "output_type": "execute_result"
    },
    {
     "data": {
      "image/png": "[encoded data removed]",
      "text/plain": [
       "<Figure size 432x288 with 1 Axes>"
      ]
     },
     "metadata": {
      "needs_background": "light"
     },
     "output_type": "display_data"
    }
   ],
   "source": [
    "sns.scatterplot(df.TotalTests,df.NewCases)"
   ]
  },
  {
   "cell_type": "code",
   "execution_count": 27,
   "id": "f0537902",
   "metadata": {},
   "outputs": [
    {
     "name": "stderr",
     "output_type": "stream",
     "text": [
      "C:\\Users\\User\\anaconda3\\lib\\site-packages\\seaborn\\_decorators.py:36: FutureWarning: Pass the following variables as keyword args: x, y. From version 0.12, the only valid positional argument will be `data`, and passing other arguments without an explicit keyword will result in an error or misinterpretation.\n",
      "  warnings.warn(\n"
     ]
    },
    {
     "data": {
      "text/plain": [
       "<AxesSubplot:xlabel='TotalRecovered', ylabel='TotalCases'>"
      ]
     },
     "execution_count": 27,
     "metadata": {},
     "output_type": "execute_result"
    },
    {
     "data": {
      "image/png": "[encoded data removed]",
      "text/plain": [
       "<Figure size 432x288 with 1 Axes>"
      ]
     },
     "metadata": {
      "needs_background": "light"
     },
     "output_type": "display_data"
    }
   ],
   "source": [
    "sns.scatterplot(df.TotalRecovered,df.TotalCases)"
   ]
  },
  {
   "cell_type": "code",
   "execution_count": 28,
   "id": "3a19a51d",
   "metadata": {},
   "outputs": [
    {
     "name": "stderr",
     "output_type": "stream",
     "text": [
      "C:\\Users\\User\\anaconda3\\lib\\site-packages\\seaborn\\_decorators.py:36: FutureWarning: Pass the following variables as keyword args: x, y. From version 0.12, the only valid positional argument will be `data`, and passing other arguments without an explicit keyword will result in an error or misinterpretation.\n",
      "  warnings.warn(\n"
     ]
    },
    {
     "data": {
      "text/plain": [
       "<AxesSubplot:xlabel='TotalDeaths', ylabel='TotalCases'>"
      ]
     },
     "execution_count": 28,
     "metadata": {},
     "output_type": "execute_result"
    },
    {
     "data": {
      "image/png": "[encoded data removed]",
      "text/plain": [
       "<Figure size 432x288 with 1 Axes>"
      ]
     },
     "metadata": {
      "needs_background": "light"
     },
     "output_type": "display_data"
    }
   ],
   "source": [
    "sns.scatterplot(df.TotalDeaths,df.TotalCases)"
   ]
  },
  {
   "cell_type": "code",
   "execution_count": 29,
   "id": "4b0a7c7c",
   "metadata": {},
   "outputs": [
    {
     "name": "stderr",
     "output_type": "stream",
     "text": [
      "C:\\Users\\User\\anaconda3\\lib\\site-packages\\seaborn\\_decorators.py:36: FutureWarning: Pass the following variables as keyword args: x, y. From version 0.12, the only valid positional argument will be `data`, and passing other arguments without an explicit keyword will result in an error or misinterpretation.\n",
      "  warnings.warn(\n"
     ]
    },
    {
     "data": {
      "text/plain": [
       "<AxesSubplot:xlabel='ActiveCases', ylabel='TotalCases'>"
      ]
     },
     "execution_count": 29,
     "metadata": {},
     "output_type": "execute_result"
    },
    {
     "data": {
      "image/png": "[encoded data removed]",
      "text/plain": [
       "<Figure size 432x288 with 1 Axes>"
      ]
     },
     "metadata": {
      "needs_background": "light"
     },
     "output_type": "display_data"
    }
   ],
   "source": [
    "sns.scatterplot(df.ActiveCases ,df.TotalCases)"
   ]
  }
 ],
 "metadata": {
  "kernelspec": {
   "display_name": "Python 3",
   "language": "python",
   "name": "python3"
  },
  "language_info": {
   "codemirror_mode": {
    "name": "ipython",
    "version": 3
   },
   "file_extension": ".py",
   "mimetype": "text/x-python",
   "name": "python",
   "nbconvert_exporter": "python",
   "pygments_lexer": "ipython3",
   "version": "3.8.8"
  }
 },
 "nbformat": 4,
 "nbformat_minor": 5
}
